{
 "cells": [
  {
   "cell_type": "code",
   "execution_count": null,
   "metadata": {},
   "outputs": [],
   "source": [
    "import cvxpy as cp\n",
    "import numpy as np\n",
    "\n",
    "# Define dimension\n",
    "n = 2  # Qubit space (2x2 matrices)\n",
    "num_M = 4  # Number of measurement operators\n",
    "\n",
    "# Define SDP variables (each M_k is a 2x2 positive semidefinite matrix)\n",
    "M = [cp.Variable((n, n), hermitian=True) for _ in range(num_M)]\n",
    "t = cp.Variable((num_M, 2))  # Auxiliary variables for absolute value constraints\n",
    "\n",
    "# Define basis states\n",
    "ket_0 = np.array([1, 0])\n",
    "ket_1 = np.array([0, 1])\n",
    "ket_plus = (ket_0 + ket_1) / np.sqrt(2)\n",
    "ket_minus = (ket_0 - ket_1) / np.sqrt(2)\n",
    "\n",
    "# Compute expectation values\n",
    "states = [[ket_0, ket_1], [ket_plus, ket_minus]]\n",
    "expectations = [[cp.real(cp.quad_form(states[u][b], M[k])) for u in range(2)] for k in range(num_M) for b in range(2)]\n",
    "\n",
    "# Constraints\n",
    "constraints = [sum(M) == np.eye(n)]  # POVM condition\n",
    "for k in range(num_M):\n",
    "    constraints.append(M[k] >> 0)  # Positive semidefinite condition\n",
    "    for u in range(2):\n",
    "        diff = expectations[k][u] - expectations[k][1 - u]\n",
    "        constraints.append(diff <= t[k, u])\n",
    "        constraints.append(-diff <= t[k, u])\n",
    "\n",
    "# Objective function\n",
    "objective = cp.Minimize(0.5 * cp.sum(t))\n",
    "\n",
    "# Solve SDP\n",
    "problem = cp.Problem(objective, constraints)\n",
    "problem.solve()\n",
    "\n",
    "# Output results\n",
    "print(\"Optimal value:\", problem.value)\n",
    "for k in range(num_M):\n",
    "    print(f\"M_{k+1}:\\n\", M[k].value)\n"
   ]
  }
 ],
 "metadata": {
  "kernelspec": {
   "display_name": ".venv",
   "language": "python",
   "name": "python3"
  },
  "language_info": {
   "name": "python",
   "version": "3.13.2"
  }
 },
 "nbformat": 4,
 "nbformat_minor": 2
}
